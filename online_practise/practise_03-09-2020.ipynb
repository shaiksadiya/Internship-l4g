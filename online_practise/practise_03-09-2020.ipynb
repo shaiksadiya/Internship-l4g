{
 "cells": [
  {
   "cell_type": "markdown",
   "metadata": {},
   "source": [
    "### Regular Expressions\n",
    "- pattern matching\n",
    "- used to search\n",
    "\n",
    " - [0-9] : any digit\n",
    " - [a-z] : any lower case alphabet\n",
    " - [2468] : all single digit multiples of 2\n",
    " - ^[0-9]{1}$ : only single digit numbers\n",
    " - ^[0-9]{3}$ : only three digit numbers\n",
    " - ^ : start of RE\n",
    " - $ : end of RE"
   ]
  },
  {
   "cell_type": "code",
   "execution_count": 11,
   "metadata": {},
   "outputs": [],
   "source": [
    "import re\n",
    "sentence = 'Start a sentence and then bring it to an end'\n",
    "pattern = re.compile(r'a$')\n",
    "matches = pattern.finditer(sentence)\n",
    "for i in matches :\n",
    "    print(i)"
   ]
  },
  {
   "cell_type": "markdown",
   "metadata": {},
   "source": [
    "### validate a phone number"
   ]
  },
  {
   "cell_type": "code",
   "execution_count": 32,
   "metadata": {},
   "outputs": [
    {
     "name": "stdout",
     "output_type": "stream",
     "text": [
      "it is a valid mobile number\n"
     ]
    }
   ],
   "source": [
    "number = '6234567890'\n",
    "pattern = re.compile(r'[6-9][0-9]{9}')\n",
    "matches = pattern.finditer(number)\n",
    "for i in matches :\n",
    "    if i :\n",
    "        print('it is a valid mobile number')"
   ]
  },
  {
   "cell_type": "code",
   "execution_count": 41,
   "metadata": {},
   "outputs": [
    {
     "name": "stdout",
     "output_type": "stream",
     "text": [
      "it is a valid mobile number\n"
     ]
    }
   ],
   "source": [
    "number = '+91-6234567890'\n",
    "pattern = re.compile(r'[+]91.[6-9][0-9]{9}')\n",
    "matches = pattern.finditer(number)\n",
    "for i in matches :\n",
    "    if i :\n",
    "        print('it is a valid mobile number')"
   ]
  },
  {
   "cell_type": "code",
   "execution_count": 45,
   "metadata": {},
   "outputs": [
    {
     "name": "stdout",
     "output_type": "stream",
     "text": [
      "It is a valid number\n"
     ]
    }
   ],
   "source": [
    "import re\n",
    "string = '+91-6234567890'\n",
    "def mobile_validator(string):\n",
    "    pattern = re.compile(r'[+]91\\-[6-9][0-9]{9}')\n",
    "    matches = pattern.finditer(string)\n",
    "    for i in matches :\n",
    "        if i :\n",
    "            return 'It is a valid number'\n",
    "    return 'Number is Invalid, Enter a valid number'\n",
    "print(mobile_validator(string))"
   ]
  },
  {
   "cell_type": "code",
   "execution_count": null,
   "metadata": {},
   "outputs": [],
   "source": []
  }
 ],
 "metadata": {
  "kernelspec": {
   "display_name": "Python 3",
   "language": "python",
   "name": "python3"
  },
  "language_info": {
   "codemirror_mode": {
    "name": "ipython",
    "version": 3
   },
   "file_extension": ".py",
   "mimetype": "text/x-python",
   "name": "python",
   "nbconvert_exporter": "python",
   "pygments_lexer": "ipython3",
   "version": "3.7.3"
  }
 },
 "nbformat": 4,
 "nbformat_minor": 2
}
