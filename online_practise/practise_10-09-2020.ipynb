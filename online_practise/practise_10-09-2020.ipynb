{
 "cells": [
  {
   "cell_type": "markdown",
   "metadata": {},
   "source": [
    "### Session Objectives\n",
    " - File Handling\n",
    "     * I/O channel redirection \n",
    "     * Read, Write, Append files\n",
    "     * Text Processing - Lines, Words, Characters\n",
    "     * Data Extraction using Regular Expressions\n",
    "     * Marks Analysis application \n",
    "     * Income Dataset Analysis"
   ]
  },
  {
   "cell_type": "code",
   "execution_count": 22,
   "metadata": {},
   "outputs": [
    {
     "data": {
      "text/plain": [
       "'50 51 52 53 54 55 56 57 58 59 60 61 62 63 64 65 66 67 68 69 70 71 72 73 74 75 76 77 78 79 80 81 82 83 84 85 86 87 88 89 90 91 92 93 94 95 96 97 98 99 100 101 102 103 104 105 106 107 108 109 110 111 112 113 114 115 116 117 118 119 120 121 122 123 124 125 126 127 128 129 130 131 132 133 134 135 136 137 138 139 140 141 142 143 144 145 146 147 148 149 150 151 152 153 154 155 156 157 158 159 160 161 162 163 164 165 166 167 168 169 170 171 172 173 174 175 176 177 178 179 180 181 182 183 184 185 186 187 188 189 190 191 192 193 194 195 196 197 198 199 200 201 202 203 204 205 206 207 208 209 210 211 212 213 214 215 216 217 218 219 220 221 222 223 224 225 226 227 228 229 230 231 232 233 234 235 236 237 238 239 240 241 242 243 244 245 246 247 248 249 250 251 252 253 254 255 256 257 258 259 260 261 262 263 264 265 266 267 268 269 270 271 272 273 274 275 276 277 278 279 280 281 282 283 284 285 286 287 288 289 290 291 292 293 294 295 296 297 298 299 300 301 302 303 304 305 306 307 308 309 310 311 312 313 314 315 316 317 318 319 320 321 322 323 324 325 326 327 328 329 330 331 332 333 334 335 336 337 338 339 340 341 342 343 344 345 346 347 348 349 350 351 352 353 354 355 356 357 358 359 360 361 362 363 364 365 366 367 368 369 370 371 372 373 374 375 376 377 378 379 380 381 382 383 384 385 386 387 388 389 390 391 392 393 394 395 396 397 398 399 400 401 402 403 404 405 406 407 408 409 410 411 412 413 414 415 416 417 418 419 420 421 422 423 424 425 426 427 428 429 430 431 432 433 434 435 436 437 438 439 440 441 442 443 444 445 446 447 448 449 450 451 452 453 454 455 456 457 458 459 460 461 462 463 464 465 466 467 468 469 470 471 472 473 474 475 476 477 478 479 480 481 482 483 484 485 486 487 488 489 490 491 492 493 494 495 496 497 498 499 500\\n'"
      ]
     },
     "execution_count": 22,
     "metadata": {},
     "output_type": "execute_result"
    }
   ],
   "source": [
    "# \"open\" is a fun that creates a channel\n",
    "# Function to read a file with a filename/address and return file data\n",
    "\n",
    "def readFile(filename):\n",
    "    f  = open(filename, 'r')\n",
    "    filedata = f.read()\n",
    "    f.close()\n",
    "    return filedata\n",
    "filename = 'datasets/numbers.txt'\n",
    "readFile(filename)"
   ]
  },
  {
   "cell_type": "code",
   "execution_count": 25,
   "metadata": {},
   "outputs": [],
   "source": [
    "# write data into a File - Input: (data, filename), Output:\n",
    "\n",
    "def writeIntoFile(filedata, filename):\n",
    "    with open(filename, 'w') as f :\n",
    "        f.write(filedata)\n",
    "    return \n",
    "filedata = str(list(range(501,1001)))[1:-1] #removes 1st nd last character i.e square brackets\n",
    "filename = 'datasets/numbers2.txt'\n",
    "writeIntoFile(filedata, filename)"
   ]
  },
  {
   "cell_type": "code",
   "execution_count": 28,
   "metadata": {},
   "outputs": [
    {
     "name": "stdout",
     "output_type": "stream",
     "text": [
      "78, 55, 35, 42, 99, 86, 49, 85, 81, 91, 38, 85, 94, 30, 5, 87, 50, 26, 42, 60, 95, 94, 27, 75, 48, 86, 42, 58, 4, 51, 8, 74, 92, 72, 84, 57, 81, 58, 17, 40, 67, 25, 61, 70, 84, 50, 1, 90, 28, 65, 80, 95, 7, 69, 34, 32, 27, 100, 58, 97\n"
     ]
    }
   ],
   "source": [
    "# Generating random numbers\n",
    "from random import randint\n",
    "lst = [randint(1,100) for i in range(60)]\n",
    "filedata = str(lst)[1:-1]\n",
    "print(filedata)"
   ]
  }
 ],
 "metadata": {
  "kernelspec": {
   "display_name": "Python 3",
   "language": "python",
   "name": "python3"
  },
  "language_info": {
   "codemirror_mode": {
    "name": "ipython",
    "version": 3
   },
   "file_extension": ".py",
   "mimetype": "text/x-python",
   "name": "python",
   "nbconvert_exporter": "python",
   "pygments_lexer": "ipython3",
   "version": "3.7.3"
  }
 },
 "nbformat": 4,
 "nbformat_minor": 2
}
