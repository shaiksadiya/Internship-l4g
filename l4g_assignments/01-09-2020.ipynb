{
 "cells": [
  {
   "cell_type": "markdown",
   "metadata": {},
   "source": [
    "### 1 .Generate all Narcissistic Numbers in a given range of numbers."
   ]
  },
  {
   "cell_type": "code",
   "execution_count": 1,
   "metadata": {},
   "outputs": [
    {
     "name": "stdout",
     "output_type": "stream",
     "text": [
      "[1, 2, 3, 4, 5, 6, 7, 8, 9, 153, 370, 371, 407, 1634, 8208, 9474, 54748, 92727, 93084]\n"
     ]
    }
   ],
   "source": [
    "def generate_narcissistic(lb , ub):\n",
    "    lst = []\n",
    "    for i in range(lb , ub):\n",
    "        total = 0 \n",
    "        for char in str(i):\n",
    "            total += int(char)**len(str(i))\n",
    "        if total == i :\n",
    "            lst.append(i)\n",
    "        else :\n",
    "            continue\n",
    "    return lst\n",
    "print(generate_narcissistic(1,100000))"
   ]
  }
 ],
 "metadata": {
  "kernelspec": {
   "display_name": "Python 3",
   "language": "python",
   "name": "python3"
  },
  "language_info": {
   "codemirror_mode": {
    "name": "ipython",
    "version": 3
   },
   "file_extension": ".py",
   "mimetype": "text/x-python",
   "name": "python",
   "nbconvert_exporter": "python",
   "pygments_lexer": "ipython3",
   "version": "3.7.3"
  }
 },
 "nbformat": 4,
 "nbformat_minor": 2
}
