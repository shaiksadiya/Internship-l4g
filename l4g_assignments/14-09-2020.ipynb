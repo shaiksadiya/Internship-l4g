{
 "cells": [
  {
   "cell_type": "markdown",
   "metadata": {},
   "source": [
    "### 1. Frequency Distribution of all words in a text file arranged in dictionary order\n",
    "- Sample Input:\n",
    "    - Python java data ML ML data\n",
    "- Sample Output:\n",
    "    - data : 2\n",
    "    - Java : 1\n",
    "    - ML : 2\n",
    "    - Python : 1\n"
   ]
  },
  {
   "cell_type": "code",
   "execution_count": 27,
   "metadata": {},
   "outputs": [
    {
     "name": "stdout",
     "output_type": "stream",
     "text": [
      "1\n",
      "Python java data ML ML data\n",
      "data : 2\n",
      "java : 1\n",
      "ml : 2\n",
      "python : 1\n"
     ]
    }
   ],
   "source": [
    "t = int(input())  \n",
    "while t!=0 :\n",
    "    t = t - 1\n",
    "    lst = input().split()\n",
    "    lst1 = [i.lower() for i in lst]\n",
    "    dic = {}\n",
    "    for i in sorted(lst1) :\n",
    "        if i in dic :\n",
    "            dic[i] +=1\n",
    "        else :\n",
    "            dic[i] = 1\n",
    "    for k,v in dic.items() :\n",
    "        print('{} : {}'.format(k,v))\n"
   ]
  },
  {
   "cell_type": "markdown",
   "metadata": {},
   "source": [
    "### 2 Checking for Anagrams(Strings consisting of same character set and character frequency)\n",
    "    - abcabc , aabbcc -> True\n",
    "    - abcd , abcdd -> False\n"
   ]
  },
  {
   "cell_type": "code",
   "execution_count": 18,
   "metadata": {},
   "outputs": [
    {
     "name": "stdout",
     "output_type": "stream",
     "text": [
      "2\n",
      "abcabc\n",
      "aabbcc\n",
      "True\n",
      "abcd\n",
      "abcdd\n",
      "False\n"
     ]
    }
   ],
   "source": [
    "t = int(input())\n",
    "while t!=0 :\n",
    "    t = t  - 1\n",
    "    str1 = [i for i in input()]\n",
    "    str2 = [i for i in input()]\n",
    "    res = str1[:]\n",
    "    for i in res :\n",
    "        if i in str2 :\n",
    "            str2.remove(i)\n",
    "            str1.remove(i)\n",
    "        else :\n",
    "            pass\n",
    "    if len(str1) == 0  and len(str2) ==0  :\n",
    "        print(\"True\")\n",
    "    else :\n",
    "        print(\"False\")\n",
    "        "
   ]
  },
  {
   "cell_type": "markdown",
   "metadata": {},
   "source": [
    "### 3 Minimum character additions/deletions to make two strings as Anagrams\n",
    "    - INPUT 1:\n",
    "    - abcabc\t\t\n",
    "    - aabbcc \n",
    "    - OUTPUT1: 0\n",
    "    \n",
    "    - INPUT 2:\n",
    "    - abcd \n",
    "    - abcdd -\n",
    "    - OUTPUT2: 1\n",
    "    \n",
    "    - INPUT 3:\n",
    "    - 123abcbca  \n",
    "    - 456aaabbbccc \n",
    "    - OUTPUT 3 : 9\n"
   ]
  },
  {
   "cell_type": "code",
   "execution_count": 26,
   "metadata": {},
   "outputs": [
    {
     "name": "stdout",
     "output_type": "stream",
     "text": [
      "3\n",
      "abcabc\n",
      "aabbcc\n",
      "0\n",
      "abcd\n",
      "abcdd\n",
      "1\n",
      "123abcbca\n",
      "456aaabbbccc\n",
      "9\n"
     ]
    }
   ],
   "source": [
    "t = int(input())\n",
    "while t!=0 :\n",
    "    t = t  - 1\n",
    "    str1 = [i for i in input()]\n",
    "    str2 = [i for i in input()]\n",
    "    res = str1[:]\n",
    "    for i in res :\n",
    "        if i in str2 :\n",
    "            str2.remove(i)\n",
    "            str1.remove(i)\n",
    "        else :\n",
    "            pass\n",
    "    print(len(str1)+len(str2))"
   ]
  },
  {
   "cell_type": "markdown",
   "metadata": {},
   "source": [
    "### 4 Find and Replace application\n",
    "    - Count the total number of occurrences of a word\n",
    "    - Check If a word is existing in a file\n",
    "    \n"
   ]
  },
  {
   "cell_type": "code",
   "execution_count": 29,
   "metadata": {},
   "outputs": [
    {
     "name": "stdout",
     "output_type": "stream",
     "text": [
      "this is line 1\n",
      "this is line 2 \n",
      "this is line 3\n",
      "this is line 4\n",
      "\n",
      "('total number of occurences of a word :', 4)\n",
      "\n",
      "the given word(this) exists in the file\n",
      "\n",
      "file before replacement:\n",
      "this is line 1\n",
      "this is line 2 \n",
      "this is line 3\n",
      "this is line 4\n",
      "\n",
      "file after replacement:\n",
      "It is line 1\n",
      "It is line 2 \n",
      "It is line 3\n",
      "It is line 4\n"
     ]
    }
   ],
   "source": [
    "with open('file2.txt') as f :\n",
    "    file = f.read()\n",
    "    filedata = file\n",
    "    lst = file.split()\n",
    "    word = 'this'\n",
    "    print(file)\n",
    "    print()\n",
    "    \n",
    "    # Count the total number of occurrences of a word = 'this'\n",
    "    \n",
    "    def total(word,lst) :\n",
    "        count = 0 \n",
    "        for i in lst :\n",
    "            if i == word :\n",
    "                count += 1\n",
    "        return('total number of occurences of a word :', count)\n",
    "\n",
    "    # Check If a word is existing in a file\n",
    "    \n",
    "    def check(word,lst):\n",
    "        if word in lst :\n",
    "            return('the given word({}) exists in the file'.format(word))\n",
    "        else :\n",
    "            return('hte given word({}) doesnot exists in the file'.format(word))\n",
    "    \n",
    "    \n",
    "\n",
    "\n",
    "    print(total(word,lst))\n",
    "    print()\n",
    "    print(check(word,lst))\n",
    "    print()\n",
    "    \n",
    "with open('file2.txt') as f :\n",
    "    file = f.read()\n",
    "    print('file before replacement:')\n",
    "    print(file)\n",
    "    filedata = file.replace('this','It')\n",
    "print()\n",
    "with open('file2.txt','w') as f :\n",
    "    f.write(filedata)\n",
    "    \n",
    "with open('file2.txt') as f :\n",
    "    file = f.read()\n",
    "    print('file after replacement:')\n",
    "    print(file)"
   ]
  },
  {
   "cell_type": "code",
   "execution_count": null,
   "metadata": {},
   "outputs": [],
   "source": []
  }
 ],
 "metadata": {
  "kernelspec": {
   "display_name": "Python 3",
   "language": "python",
   "name": "python3"
  },
  "language_info": {
   "codemirror_mode": {
    "name": "ipython",
    "version": 3
   },
   "file_extension": ".py",
   "mimetype": "text/x-python",
   "name": "python",
   "nbconvert_exporter": "python",
   "pygments_lexer": "ipython3",
   "version": "3.7.3"
  }
 },
 "nbformat": 4,
 "nbformat_minor": 2
}
