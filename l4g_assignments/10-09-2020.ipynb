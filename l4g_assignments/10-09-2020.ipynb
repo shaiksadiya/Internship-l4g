{
 "cells": [
  {
   "cell_type": "markdown",
   "metadata": {},
   "source": [
    "### 1 Character Count\n",
    "    \n",
    "    Character Count\n",
    "    Line Count\n",
    "    File Size\n",
    "    Word Count\n",
    "    Unique Word Count\n",
    "\n"
   ]
  },
  {
   "cell_type": "code",
   "execution_count": 5,
   "metadata": {},
   "outputs": [
    {
     "name": "stdout",
     "output_type": "stream",
     "text": [
      "Line Count : 4\n",
      "Character Count :20\n",
      "File Size :25\n",
      "Word Count :4\n",
      "Unique Word Count:3\n"
     ]
    }
   ],
   "source": [
    "with open('file1.txt') as f :\n",
    "    lines = f.readlines()\n",
    "    print('Line Count :',len(lines))\n",
    "    \n",
    "def file_data(filename):\n",
    "    with open(filename) as f:\n",
    "        data_string = f.read()\n",
    "        filesize = len(data_string)\n",
    "        words = data_string.split()\n",
    "        wordscount = len(words)\n",
    "        char_count = 0\n",
    "        for i in words :\n",
    "            for j in i :\n",
    "                char_count += 1\n",
    "        uniquewords = set(words)\n",
    "        uniquewordscount = len(uniquewords)\n",
    "    return 'Character Count :{}\\nFile Size :{}\\nWord Count :{}\\nUnique Word Count:{}'.format(char_count,filesize,wordscount,uniquewordscount)\n",
    "\n",
    "print(file_data('file1.txt'))"
   ]
  },
  {
   "cell_type": "markdown",
   "metadata": {},
   "source": [
    "### 2 Marks Analysis\n",
    "    * Class Average\n",
    "    * % of students passed\n",
    "    * % of students failed \n",
    "    * % of students with distinction\n",
    "    * Highest Mark Frequency\n",
    "    * Lowest Mark Frequency\n"
   ]
  },
  {
   "cell_type": "code",
   "execution_count": 2,
   "metadata": {},
   "outputs": [
    {
     "name": "stdout",
     "output_type": "stream",
     "text": [
      "The Marks Report is :\n",
      " The Class Average is :49.416666666666664\n",
      "% of students passed :60.0 \n",
      "% of students failed:40.0\n",
      "% of students with distinction :23.333333333333332\n",
      "Highest Mark Frequency :1\n",
      "Lowest Mark Frequency :1\n"
     ]
    }
   ],
   "source": [
    "def Marks_analysis(filename):\n",
    "    with open(filename) as f :\n",
    "        line = f.read()\n",
    "        lst = list(map(int , line.split(','))) # list of marks of 60 students\n",
    "        len_lst = len(lst)\n",
    "        \n",
    "        pass_lst = [i for i in lst if i>=40] #list of marks >=40\n",
    "        perc_passed = (len(pass_lst)/len_lst)*100 # % of students passed\n",
    "        \n",
    "        fail_lst = [i for i in lst if i<40] # list of marks <40\n",
    "        perc_fail = (len(fail_lst)/len_lst)*100 # % of students failed\n",
    "        \n",
    "        total = sum(lst)\n",
    "        average = total/len_lst # class Average  \n",
    "        \n",
    "        dist_marks = [i for i in lst if i>=80] # lsit of students >=80 marks\n",
    "        perc_dist = (len(dist_marks)/len_lst)* 100 # % of students with distinction\n",
    "        \n",
    "        high_marks = max(lst)\n",
    "        low_marks = min(lst)\n",
    "        \n",
    "        Highest_Mark_Frequency = lst.count(high_marks)\n",
    "        Lowest_Mark_Frequency = lst.count(low_marks)\n",
    "\n",
    "    return ('The Class Average is :{}\\n% of students passed :{} \\n% of students failed:{}\\n% of students with distinction :{}\\nHighest Mark Frequency :{}\\nLowest Mark Frequency :{}'.format(average,perc_passed,perc_fail,perc_dist,Highest_Mark_Frequency,Lowest_Mark_Frequency)) \n",
    "\n",
    "print('The Marks Report is :\\n',Marks_analysis('marks.txt'))\n",
    "\n"
   ]
  }
 ],
 "metadata": {
  "kernelspec": {
   "display_name": "Python 3",
   "language": "python",
   "name": "python3"
  },
  "language_info": {
   "codemirror_mode": {
    "name": "ipython",
    "version": 3
   },
   "file_extension": ".py",
   "mimetype": "text/x-python",
   "name": "python",
   "nbconvert_exporter": "python",
   "pygments_lexer": "ipython3",
   "version": "3.7.3"
  }
 },
 "nbformat": 4,
 "nbformat_minor": 2
}
