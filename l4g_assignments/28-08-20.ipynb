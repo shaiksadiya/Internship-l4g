{
 "cells": [
  {
   "cell_type": "markdown",
   "metadata": {},
   "source": [
    "# Problem Solving"
   ]
  },
  {
   "cell_type": "markdown",
   "metadata": {},
   "source": [
    "### 28 - 08  - 20"
   ]
  },
  {
   "cell_type": "markdown",
   "metadata": {},
   "source": [
    "### 1.Function to find the average of cubes of all even numbers in a given range(lb, ub) inclusive"
   ]
  },
  {
   "cell_type": "code",
   "execution_count": 6,
   "metadata": {},
   "outputs": [
    {
     "name": "stdout",
     "output_type": "stream",
     "text": [
      "36.0\n"
     ]
    }
   ],
   "source": [
    "def even_num(a,b) :\n",
    "    lst = []\n",
    "    for i in range(a,b+1) :\n",
    "        if i%2 == 0 :\n",
    "            lst.append(i**3)\n",
    "    return (sum(lst)/len((lst)))\n",
    "\n",
    "print(even_num(1,5))"
   ]
  },
  {
   "cell_type": "markdown",
   "metadata": {},
   "source": [
    "### 2 Function to generate the list of factors for a given number"
   ]
  },
  {
   "cell_type": "code",
   "execution_count": 7,
   "metadata": {},
   "outputs": [
    {
     "name": "stdout",
     "output_type": "stream",
     "text": [
      "[1, 2, 3, 4, 6, 12]\n"
     ]
    }
   ],
   "source": [
    "def factors(n):\n",
    "    lst = []\n",
    "    for i in range(1,n+1):\n",
    "        if n % i == 0 :\n",
    "            lst.append(i)\n",
    "    return lst\n",
    "print(factors(12))"
   ]
  },
  {
   "cell_type": "markdown",
   "metadata": {},
   "source": [
    "### 3 Function to calculate the factorial of a given number"
   ]
  },
  {
   "cell_type": "code",
   "execution_count": 8,
   "metadata": {},
   "outputs": [
    {
     "name": "stdout",
     "output_type": "stream",
     "text": [
      "120\n"
     ]
    }
   ],
   "source": [
    "def factorial(n):\n",
    "    if n <1 :\n",
    "        return 'NA'\n",
    "    elif n == 1 :\n",
    "        return n\n",
    "    else :\n",
    "        n = n * factorial(n-1)\n",
    "        return n\n",
    "print(factorial(5))"
   ]
  },
  {
   "cell_type": "markdown",
   "metadata": {},
   "source": [
    "### 4 Function to print all numbers divisible by 6 and not a factor of 100 in a given range(lb, ub) inclusive"
   ]
  },
  {
   "cell_type": "code",
   "execution_count": 9,
   "metadata": {},
   "outputs": [
    {
     "name": "stdout",
     "output_type": "stream",
     "text": [
      "6 12 18 24 30 36 42 48 54 60 66 72 78 84 90 96 "
     ]
    }
   ],
   "source": [
    "def my_fun(a,b):\n",
    "    if a == 0 :\n",
    "        print(a,end = '')\n",
    "        a = a + 1\n",
    "    for i in range(a,b+1):\n",
    "        if i % 6 == 0  and 100 %i != 0:\n",
    "            print(i,end=' ')\n",
    "my_fun(1,100)"
   ]
  },
  {
   "cell_type": "markdown",
   "metadata": {},
   "source": [
    "### 5 Function to check if a given number is Prime"
   ]
  },
  {
   "cell_type": "code",
   "execution_count": 10,
   "metadata": {},
   "outputs": [
    {
     "name": "stdout",
     "output_type": "stream",
     "text": [
      "10 is not a prime number\n"
     ]
    }
   ],
   "source": [
    "def prime(n):\n",
    "    if n < 2 :\n",
    "        return 'NA'\n",
    "    else :\n",
    "        for i in range(2,n):\n",
    "            if n%i == 0 :\n",
    "                print(n,'is not a prime number')\n",
    "                return None\n",
    "                \n",
    "            else :\n",
    "                continue\n",
    "    return '{} is a prime number'.format(n)\n",
    "\n",
    "prime(10)"
   ]
  },
  {
   "cell_type": "markdown",
   "metadata": {},
   "source": [
    "### 6 Function to calculate the average first N Prime numbers"
   ]
  },
  {
   "cell_type": "code",
   "execution_count": 11,
   "metadata": {},
   "outputs": [
    {
     "name": "stdout",
     "output_type": "stream",
     "text": [
      "2.5\n"
     ]
    }
   ],
   "source": [
    "def isprime(n):\n",
    "    if n < 2 :\n",
    "        return False\n",
    "    else :\n",
    "        for i in range(2,n):\n",
    "            if n%i == 0 :\n",
    "                return False\n",
    "                \n",
    "            else :\n",
    "                continue\n",
    "    return True\n",
    "\n",
    "def avg_prime(n):\n",
    "    a = 2 \n",
    "    summ = 0\n",
    "    count = 0\n",
    "    while count != n :\n",
    "        if isprime(a):\n",
    "            summ += a\n",
    "            a += 1\n",
    "            count += 1\n",
    "        \n",
    "    return summ/count\n",
    "\n",
    "print(avg_prime(2))"
   ]
  },
  {
   "cell_type": "markdown",
   "metadata": {},
   "source": [
    "### 7 Function to generate all Perfect numbers in a given range\n"
   ]
  },
  {
   "cell_type": "code",
   "execution_count": 1,
   "metadata": {},
   "outputs": [
    {
     "name": "stdout",
     "output_type": "stream",
     "text": [
      "[6, 28, 496]\n"
     ]
    }
   ],
   "source": [
    "def perfect_numbers(a,b):\n",
    "    result = []\n",
    "    for i in range(a,b) :\n",
    "        lst = []\n",
    "        for j in range(1 ,i):\n",
    "            if i%j == 0 :\n",
    "                lst.append(j)\n",
    "        if i == sum(lst):\n",
    "            result.append(i)\n",
    "    return result\n",
    "print(perfect_numbers(1,1000))"
   ]
  },
  {
   "cell_type": "markdown",
   "metadata": {},
   "source": [
    "### 8 Advanced Problem Set( Optional )\n"
   ]
  },
  {
   "cell_type": "markdown",
   "metadata": {},
   "source": [
    "### 8.1 Function to calculate average of all factorials in a given range"
   ]
  },
  {
   "cell_type": "code",
   "execution_count": 2,
   "metadata": {},
   "outputs": [
    {
     "name": "stdout",
     "output_type": "stream",
     "text": [
      "3.0\n"
     ]
    }
   ],
   "source": [
    "def factorial(n):\n",
    "    if n <1 :\n",
    "        return 'NA'\n",
    "    elif n == 1 :\n",
    "        return n\n",
    "    else :\n",
    "        n = n * factorial(n-1)\n",
    "        return n\n",
    "def avg_of_factorials(lb,ub):\n",
    "    lst =[]\n",
    "    for i in range(lb,ub+1):\n",
    "        lst.append(factorial(i))\n",
    "    return sum(lst)/len(lst)\n",
    "print(avg_of_factorials(1,3))"
   ]
  },
  {
   "cell_type": "markdown",
   "metadata": {},
   "source": [
    "### 8.2 Function to generate N odd armstrong numbers"
   ]
  },
  {
   "cell_type": "code",
   "execution_count": 3,
   "metadata": {},
   "outputs": [
    {
     "name": "stdout",
     "output_type": "stream",
     "text": [
      "[1, 153, 370, 371, 407]\n"
     ]
    }
   ],
   "source": [
    "def generate_armstrong(a,b):\n",
    "    lst =[]\n",
    "    for i in range(a,b+1):\n",
    "        total = 0\n",
    "        for c in str(i):\n",
    "            total += int(c)**3\n",
    "        if total == i:\n",
    "            lst.append(i)\n",
    "    return lst\n",
    "print(generate_armstrong(1,500))"
   ]
  },
  {
   "cell_type": "markdown",
   "metadata": {},
   "source": [
    "### 8.3 Function to generate Multiplication table for a number in a given range"
   ]
  },
  {
   "cell_type": "code",
   "execution_count": 4,
   "metadata": {},
   "outputs": [
    {
     "name": "stdout",
     "output_type": "stream",
     "text": [
      "10*101=1010\n",
      "10*102=1020\n",
      "10*103=1030\n"
     ]
    }
   ],
   "source": [
    "def multiplication_table(n , a, b):\n",
    "    for i in range(a,b+1):\n",
    "        print('{}*{}={}'.format(n,i,n*i))\n",
    "multiplication_table(10,101,103)"
   ]
  }
 ],
 "metadata": {
  "kernelspec": {
   "display_name": "Python 3",
   "language": "python",
   "name": "python3"
  },
  "language_info": {
   "codemirror_mode": {
    "name": "ipython",
    "version": 3
   },
   "file_extension": ".py",
   "mimetype": "text/x-python",
   "name": "python",
   "nbconvert_exporter": "python",
   "pygments_lexer": "ipython3",
   "version": "3.7.3"
  }
 },
 "nbformat": 4,
 "nbformat_minor": 2
}
