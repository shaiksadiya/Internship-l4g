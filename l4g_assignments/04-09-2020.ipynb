{
 "cells": [
  {
   "cell_type": "markdown",
   "metadata": {},
   "source": [
    "### Function to validate a phone number\n",
    "- def phoneValidator(number):\n",
    "  - Start with 6-9 followed by 9 digits\n",
    "  - +91-(10 digits)\n"
   ]
  },
  {
   "cell_type": "code",
   "execution_count": 2,
   "metadata": {},
   "outputs": [
    {
     "name": "stdout",
     "output_type": "stream",
     "text": [
      "<re.Match object; span=(0, 14), match='+91-6234567890'>\n"
     ]
    }
   ],
   "source": [
    "import re\n",
    "string = '+91-6234567890'\n",
    "def phoneValidator(string):\n",
    "    return re.match('[+]91\\-[6-9][0-9]{9}',string)\n",
    "print(phoneValidator(string))"
   ]
  },
  {
   "cell_type": "markdown",
   "metadata": {},
   "source": [
    "### Function to validate email id\n",
    " - def emailValidator(email):\n",
    "  - username\n",
    "    - Length of username : [6,15]\n",
    "    - No special characters other than _ .\n",
    "    - Should not begin and end with _ .\n",
    "    - Character Set : all digits and lower case alphabet\n",
    "  - domain\n",
    "     - Length of domain : [3, 18]\n",
    "     - No special characters\n",
    "     - Character Set : all digits and lower case alphabet\n",
    "  - extension\n",
    "     - Length of extension : [2, 4]\n",
    "     - No special characters\n",
    "     - Character Set : lower case alphabet\n",
    "\n",
    "\n"
   ]
  },
  {
   "cell_type": "code",
   "execution_count": 8,
   "metadata": {},
   "outputs": [
    {
     "name": "stdout",
     "output_type": "stream",
     "text": [
      "<re.Match object; span=(0, 22), match='shaikhaleema@gmail.com'>\n"
     ]
    }
   ],
   "source": [
    "def emailValidator(mail_id):\n",
    "    return (re.match(\"^[a-z0-9A-Z._]{6,15}[@][a-z1-9]{3,18}[.][a-z]{2,4}$\",mail_id) )\n",
    "print(emailValidator('shaikhaleema@gmail.com'))"
   ]
  },
  {
   "cell_type": "markdown",
   "metadata": {},
   "source": [
    "### Function to validate a URL\n",
    "    - https://subdomain.domain.extension/*\n",
    "    - https://www.subdomain.domain.extension/*"
   ]
  },
  {
   "cell_type": "code",
   "execution_count": 15,
   "metadata": {},
   "outputs": [
    {
     "name": "stdout",
     "output_type": "stream",
     "text": [
      "<re.Match object; span=(0, 23), match='https://www.youtube.com'>\n",
      "<re.Match object; span=(0, 22), match='https://www.google.com'>\n",
      "<re.Match object; span=(0, 19), match='https://bvrit.ac.in'>\n"
     ]
    }
   ],
   "source": [
    "def UrlValidator(url):\n",
    "    return re.match(\"^[h][t][t][p][s]?:\\/\\/([w]{3}|[a-z]{3,6})[.][\\w+]+[.][\\w+]*\",url)\n",
    "\n",
    "print(UrlValidator('https://www.youtube.com/'))\n",
    "print(UrlValidator('https://www.google.com'))\n",
    "print(UrlValidator('https://bvrit.ac.in'))"
   ]
  },
  {
   "cell_type": "markdown",
   "metadata": {},
   "source": [
    "### Function to validate Password\n",
    "- Minimum 6 characters\n",
    "- Character set : all alphabet(lower case, upper case), all digits, special characters except whitespace\n",
    "- Should contain at least one upper case letter, one digit and one special character\n",
    "- Maximum 18 characters\n"
   ]
  },
  {
   "cell_type": "code",
   "execution_count": 16,
   "metadata": {},
   "outputs": [
    {
     "name": "stdout",
     "output_type": "stream",
     "text": [
      "<re.Match object; span=(0, 17), match='bvrit123@narsapur'>\n"
     ]
    }
   ],
   "source": [
    "def passwordValidator(paswd):\n",
    "    return re.match(\"^(?=.*[0-9a-zA-Z])(?=.*[*.!@$%^&(){}[/\\]':;<>,.?\\\\~_+-=|]).{6,18}$\",paswd)\n",
    "print(passwordValidator('bvrit123@narsapur'))"
   ]
  }
 ],
 "metadata": {
  "kernelspec": {
   "display_name": "Python 3",
   "language": "python",
   "name": "python3"
  },
  "language_info": {
   "codemirror_mode": {
    "name": "ipython",
    "version": 3
   },
   "file_extension": ".py",
   "mimetype": "text/x-python",
   "name": "python",
   "nbconvert_exporter": "python",
   "pygments_lexer": "ipython3",
   "version": "3.7.3"
  }
 },
 "nbformat": 4,
 "nbformat_minor": 2
}
