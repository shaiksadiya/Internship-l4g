{
 "cells": [
  {
   "cell_type": "code",
   "execution_count": 2,
   "metadata": {
    "scrolled": true
   },
   "outputs": [
    {
     "name": "stdout",
     "output_type": "stream",
     "text": [
      "None\n"
     ]
    }
   ],
   "source": [
    "import re\n",
    "string = '+91-6234567890'\n",
    "def phone(string):\n",
    "    return re.match('[+]91\\-[6-9][0-9]{9}',string)\n",
    "print(phone(string))"
   ]
  },
  {
   "cell_type": "code",
   "execution_count": 1,
   "metadata": {},
   "outputs": [
    {
     "name": "stdout",
     "output_type": "stream",
     "text": [
      "It is a valid number\n"
     ]
    }
   ],
   "source": [
    "import re\n",
    "string = '+91-6234567890'\n",
    "def mobile_validator(string):\n",
    "    pattern = re.compile(r'[+]91\\-[6-9][0-9]{9}')\n",
    "    matches = pattern.finditer(string)\n",
    "    for i in matches :\n",
    "        if i :\n",
    "            return 'It is a valid number'\n",
    "    return 'Number is Invalid, Enter a valid number'\n",
    "print(mobile_validator(string))"
   ]
  },
  {
   "cell_type": "code",
   "execution_count": 25,
   "metadata": {},
   "outputs": [
    {
     "name": "stdout",
     "output_type": "stream",
     "text": [
      "fresh None\n",
      "None\n",
      "None\n",
      "None\n",
      "krish\n"
     ]
    }
   ],
   "source": [
    "def email(string):\n",
    "    return re.match('(^[a-zA-Z0-9][a-zA-Z.-]{5,15})@([0-9a-z]{3,18})[.]([a-z]{2-4})',string)\n",
    "print('fresh',email('shaikhaleem@gmail.com'))\n",
    "print(email('shaik_merre123@gmail.com'))\n",
    "print(email('kari-.shma@Betch'))\n",
    "print(email('karish@12'))\n",
    "print('krish')"
   ]
  },
  {
   "cell_type": "code",
   "execution_count": 23,
   "metadata": {},
   "outputs": [
    {
     "name": "stdout",
     "output_type": "stream",
     "text": [
      "ji\n"
     ]
    }
   ],
   "source": [
    "print('ji')"
   ]
  },
  {
   "cell_type": "code",
   "execution_count": null,
   "metadata": {},
   "outputs": [],
   "source": []
  }
 ],
 "metadata": {
  "kernelspec": {
   "display_name": "Python 3",
   "language": "python",
   "name": "python3"
  },
  "language_info": {
   "codemirror_mode": {
    "name": "ipython",
    "version": 3
   },
   "file_extension": ".py",
   "mimetype": "text/x-python",
   "name": "python",
   "nbconvert_exporter": "python",
   "pygments_lexer": "ipython3",
   "version": "3.7.3"
  }
 },
 "nbformat": 4,
 "nbformat_minor": 2
}
