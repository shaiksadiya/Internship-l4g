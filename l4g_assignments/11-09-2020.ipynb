{
 "cells": [
  {
   "cell_type": "markdown",
   "metadata": {},
   "source": [
    "### 1 Digit Frequency - Generate a frequency distribution for all digits in an Alphanumeric string\n",
    "- Input : ‘abc1122665’\n",
    "    - Output : 0:0, 1:2, 2:4, 3:0, 4:0, 5:1, 6:2, 7:0, 8:0, 9:0\n",
    "- Input : ‘qwerty’\n",
    "    - Output : 0:0, 1:0, 2:0, 3:0, 4:0, 5:0, 6:0, 7:0, 8:0, 9:0"
   ]
  },
  {
   "cell_type": "code",
   "execution_count": 2,
   "metadata": {},
   "outputs": [
    {
     "name": "stdout",
     "output_type": "stream",
     "text": [
      "{'0': 0, '1': 2, '2': 2, '3': 0, '4': 0, '5': 1, '6': 2, '7': 0, '8': 0, '9': 0}\n"
     ]
    }
   ],
   "source": [
    "def DigitFrequency(string) :\n",
    "    dic = {}\n",
    "    for i in range(10):\n",
    "        dic[str(i)] = 0\n",
    "    for i in string :\n",
    "        if i.isdigit() :\n",
    "            dic[i] += 1\n",
    "            \n",
    "    return dic\n",
    "\n",
    "print(DigitFrequency('abc1122665'))"
   ]
  },
  {
   "cell_type": "markdown",
   "metadata": {},
   "source": [
    "### 2 Second highest frequency - Marks Data\n"
   ]
  },
  {
   "cell_type": "code",
   "execution_count": 3,
   "metadata": {},
   "outputs": [
    {
     "name": "stdout",
     "output_type": "stream",
     "text": [
      "{'42': 1, ' 93': 3, ' 3': 2, ' 71': 2, ' 49': 1, ' 41': 1, ' 61': 1, ' 38': 1, ' 62': 2, ' 92': 2, ' 85': 3, ' 11': 1, ' 86': 2, ' 90': 1, ' 84': 1, ' 52': 4, ' 24': 1, ' 46': 1, ' 43': 1, ' 39': 2, ' 10': 3, ' 9': 1, ' 67': 1, ' 16': 2, ' 32': 2, ' 21': 1, ' 44': 1, ' 18': 1, ' 30': 1, ' 37': 1, ' 48': 1, ' 100': 1, ' 65': 1, ' 0': 1, ' 22': 1, ' 57': 1, ' 5': 1, ' 55': 1, ' 33': 1, ' 35': 1, ' 96': 1, ' 45': 1, ' 75': 1}\n",
      "3\n"
     ]
    }
   ],
   "source": [
    "def secondHighest(filename):\n",
    "    \n",
    "    with open(filename) as f :\n",
    "        lst = f.read().split(',')\n",
    "        dic = {}\n",
    "        for i in lst :\n",
    "            if i in dic :\n",
    "                dic[i] += 1\n",
    "            else :\n",
    "                dic[i] = 1\n",
    "                \n",
    "        print(dic)\n",
    "        v_lst = []\n",
    "        for i in dic.values() :\n",
    "            v_lst.append(i)\n",
    "            \n",
    "        highest1 = max(v_lst)\n",
    "        temp_lst = [v_lst.remove(highest1) for i in range(v_lst.count(highest1))]\n",
    "        highest2 = max(v_lst)\n",
    "        \n",
    "    return highest2\n",
    "        \n",
    "filename  = 'marks.txt'\n",
    "print(secondHighest(filename))"
   ]
  },
  {
   "cell_type": "markdown",
   "metadata": {},
   "source": [
    "### 3. K-highest frequency - return the number of students with rank ‘k’\n"
   ]
  },
  {
   "cell_type": "code",
   "execution_count": 4,
   "metadata": {},
   "outputs": [
    {
     "name": "stdout",
     "output_type": "stream",
     "text": [
      "2\n"
     ]
    }
   ],
   "source": [
    "def K_Highest(filename,k):\n",
    "    \n",
    "    with open(filename) as f :\n",
    "        lst = f.read().split(',')\n",
    "        dic = {}\n",
    "        for i in lst :\n",
    "            if i in dic :\n",
    "                dic[i] += 1\n",
    "            else :\n",
    "                dic[i] = 1\n",
    "        v_lst = []\n",
    "        for i in dic.values() :\n",
    "            v_lst.append(i)\n",
    "        for i in range(1,k):\n",
    "            highest = max(v_lst)\n",
    "            temp_lst = [v_lst.remove(highest) for i in range(v_lst.count(highest))]\n",
    "    \n",
    "    return max(v_lst)\n",
    "        \n",
    "filename  = 'marks.txt'\n",
    "print(K_Highest(filename,3))"
   ]
  },
  {
   "cell_type": "markdown",
   "metadata": {},
   "source": [
    "### 4. sample Input :\n",
    "    - 3\n",
    "    - 10.00\n",
    "    - 20.00\n",
    "    - 30.00\n",
    "    - 4\n",
    "    - 15.00\n",
    "    - 15.01\n",
    "    - 3.00\n",
    "    - 3.01\n",
    "### Sample Output\n",
    "    - $10.00\n",
    "    - $11.99\n"
   ]
  },
  {
   "cell_type": "code",
   "execution_count": 6,
   "metadata": {},
   "outputs": [
    {
     "name": "stdout",
     "output_type": "stream",
     "text": [
      "3\n",
      "10.00\n",
      "20.00\n",
      "30.00\n",
      "$ 10.0\n"
     ]
    }
   ],
   "source": [
    "def my_fun() :\n",
    "    n = int(input())\n",
    "    lst = []\n",
    "    while n!=0 :\n",
    "        n -= 1\n",
    "        lst.append(float(input()))\n",
    "    total = sum(lst)\n",
    "    avg = total / len(lst)\n",
    "    c = 0 \n",
    "    for i in lst :\n",
    "        if i < avg :\n",
    "            c += (avg - i)\n",
    "    return c\n",
    "print('$',my_fun())\n",
    "    "
   ]
  },
  {
   "cell_type": "code",
   "execution_count": null,
   "metadata": {},
   "outputs": [],
   "source": []
  }
 ],
 "metadata": {
  "kernelspec": {
   "display_name": "Python 3",
   "language": "python",
   "name": "python3"
  },
  "language_info": {
   "codemirror_mode": {
    "name": "ipython",
    "version": 3
   },
   "file_extension": ".py",
   "mimetype": "text/x-python",
   "name": "python",
   "nbconvert_exporter": "python",
   "pygments_lexer": "ipython3",
   "version": "3.7.3"
  }
 },
 "nbformat": 4,
 "nbformat_minor": 2
}
