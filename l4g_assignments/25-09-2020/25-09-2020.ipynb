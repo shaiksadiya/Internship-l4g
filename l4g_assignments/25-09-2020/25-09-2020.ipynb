{
 "cells": [
  {
   "cell_type": "markdown",
   "metadata": {},
   "source": [
    "## CAESERS CIPHER"
   ]
  },
  {
   "cell_type": "markdown",
   "metadata": {},
   "source": [
    "### Create a File Encryption Function that takes a text file, key and replaces all characters and digits in the file with a corresponding character after key number of shifts"
   ]
  },
  {
   "cell_type": "code",
   "execution_count": 1,
   "metadata": {},
   "outputs": [
    {
     "name": "stdout",
     "output_type": "stream",
     "text": [
      "s|wkrq\n"
     ]
    }
   ],
   "source": [
    "# function to shift the single character by given key value\n",
    "def letter_shifter(key , char):\n",
    "    asci_value = ord(char)\n",
    "    new_key = key + asci_value\n",
    "    if new_key > 126 :\n",
    "        new_key = new_key % 126 + 32\n",
    "        \n",
    "    return chr(new_key) # excluding 1-32 ascii values\n",
    "\n",
    "# function to join all the shifted characters and returns a single word\n",
    "def new_word(word, key):\n",
    "    new_word = ''\n",
    "    for i in word :\n",
    "        new_word += letter_shifter(key , i)\n",
    "    return new_word\n",
    "print(new_word('python',3))"
   ]
  },
  {
   "cell_type": "code",
   "execution_count": 2,
   "metadata": {},
   "outputs": [
    {
     "name": "stdout",
     "output_type": "stream",
     "text": [
      "the encrypted file is :  s|wkrq s|wkrq\n",
      "}}]]] eeeEEE\n",
      "fffFFF gggGGG\n",
      "45678 9:;<43\n"
     ]
    }
   ],
   "source": [
    "# funtion to change entire file data to ceaser cipher technique\n",
    "def encryption_fun(filename , key) :\n",
    "    with open(filename) as f :\n",
    "        data_str = f.read()\n",
    "        file_data = data_str\n",
    "        words_lst = data_str.split()\n",
    "        for word in words_lst :\n",
    "            newword = new_word(word, key)\n",
    "            file_data = file_data.replace(word, newword)\n",
    "    return file_data\n",
    "\n",
    "file_data = encryption_fun('original_file.txt' , 3)\n",
    "with open('encrypted_file.txt', 'w') as f :\n",
    "    f.write(file_data)\n",
    "\n",
    "# Lets print encrypted file data\n",
    "with open('encrypted_file.txt') as f :\n",
    "    data = f.read()\n",
    "    print('the encrypted file is : ',data)\n",
    "\n",
    "    "
   ]
  },
  {
   "cell_type": "markdown",
   "metadata": {},
   "source": [
    "### Create a File Decryption function that takes Encrypted file, Key and creates the original file"
   ]
  },
  {
   "cell_type": "code",
   "execution_count": 3,
   "metadata": {},
   "outputs": [
    {
     "name": "stdout",
     "output_type": "stream",
     "text": [
      "the original file is :\n",
      "python python\n",
      "zzZZZ bbbBBB\n",
      "cccCCC dddDDD\n",
      "12345 678910\n"
     ]
    }
   ],
   "source": [
    "# function to shift the single character by given key value\n",
    "def letter_shifter(key , char):\n",
    "    asci_value = ord(char)\n",
    "    new_key = asci_value - key\n",
    "    if new_key < 33 :\n",
    "        num = 33 - new_key\n",
    "        new_key = (126 - num) + 1\n",
    "        \n",
    "    return chr(new_key)\n",
    "\n",
    "# function to join all the shifted characters and returns a single word\n",
    "def new_word(word, key):\n",
    "    new_word = ''\n",
    "    for i in word :\n",
    "        new_word += letter_shifter(key , i)\n",
    "    return new_word\n",
    "\n",
    "def decryption_fun(filename , key) :\n",
    "    with open(filename) as f :\n",
    "        data_str = f.read()\n",
    "        file_data = data_str\n",
    "        words_lst = data_str.split()\n",
    "        for word in words_lst :\n",
    "            newword = new_word(word, key)\n",
    "            file_data = file_data.replace(word, newword)\n",
    "    return file_data\n",
    "\n",
    "print('the original file is :')\n",
    "print(decryption_fun('encrypted_file.txt' , 3))\n"
   ]
  },
  {
   "cell_type": "markdown",
   "metadata": {},
   "source": [
    "## Key file approach \n",
    "#### Alphanumeric characters(including lowercase and uppercase) only\n",
    "- User creates a key file with mapping of all characters with the replaced characters\n",
    "- A T\n",
    "- B C"
   ]
  },
  {
   "cell_type": "markdown",
   "metadata": {},
   "source": [
    "### Create a File Encryption function that takes a text file, key file and encrypts every character in the text file with the replacement character in the key file"
   ]
  },
  {
   "cell_type": "code",
   "execution_count": 4,
   "metadata": {},
   "outputs": [
    {
     "name": "stdout",
     "output_type": "stream",
     "text": [
      "uHSI tI THE nPSGSNZL gSLE\n",
      "mETI fXRLMPE OMPE \n",
      "bEZL\n"
     ]
    }
   ],
   "source": [
    "def change_char(char) :\n",
    "    with open('key_file.txt') as f :\n",
    "        file = f.read()\n",
    "        lst = [i for i in file.split()]\n",
    "        indexx = lst.index(char) \n",
    "    return lst[indexx + 1]\n",
    "\n",
    "        \n",
    "def new_word(word) :\n",
    "    new_word = ''\n",
    "    for i in word :\n",
    "        new_word += change_char(i)\n",
    "    return new_word\n",
    "\n",
    "def encryption_fun(file_name):\n",
    "    with open(file_name) as f :\n",
    "        file = f.read()\n",
    "        filedata = file\n",
    "        words_lst = file.split()\n",
    "        for word in words_lst :\n",
    "            newword = new_word(word)\n",
    "            filedata = filedata.replace(word, newword)\n",
    "    return filedata\n",
    "\n",
    "filedata = encryption_fun('original_file1.txt')\n",
    "\n",
    "with open('encrypted_file1.txt','w') as f:\n",
    "    f.write(filedata)\n",
    "with open('encrypted_file1.txt') as f:\n",
    "    file = f.read()\n",
    "    print(file)\n",
    "\n",
    "\n"
   ]
  },
  {
   "cell_type": "markdown",
   "metadata": {},
   "source": [
    "### Create a Decryption function that takes an Encrypted file, Key file and recreates the original data file"
   ]
  },
  {
   "cell_type": "code",
   "execution_count": 5,
   "metadata": {},
   "outputs": [
    {
     "name": "stdout",
     "output_type": "stream",
     "text": [
      "This Is the Original File\n",
      "Lets Explore more \n",
      "Zeal\n"
     ]
    }
   ],
   "source": [
    "def change_char(char) :\n",
    "    with open('key_file.txt') as f :\n",
    "        file = f.read()\n",
    "        lst = [i for i in file.split()]\n",
    "        indexx = lst.index(char) \n",
    "    return lst[indexx - 1]\n",
    "\n",
    "        \n",
    "def new_word(word) :\n",
    "    new_word = ''\n",
    "    for i in word :\n",
    "        new_word += change_char(i)\n",
    "    return new_word\n",
    "\n",
    "\n",
    "\n",
    "def decryption_fun(file_name):\n",
    "    with open(file_name) as f :\n",
    "        file = f.read()\n",
    "        filedata = file\n",
    "        words_lst = file.split()\n",
    "        for word in words_lst :\n",
    "            newword = new_word(word)\n",
    "            filedata = filedata.replace(word, newword)\n",
    "    return filedata\n",
    "\n",
    "print(decryption_fun('encrypted_file1.txt'))"
   ]
  }
 ],
 "metadata": {
  "kernelspec": {
   "display_name": "Python 3",
   "language": "python",
   "name": "python3"
  },
  "language_info": {
   "codemirror_mode": {
    "name": "ipython",
    "version": 3
   },
   "file_extension": ".py",
   "mimetype": "text/x-python",
   "name": "python",
   "nbconvert_exporter": "python",
   "pygments_lexer": "ipython3",
   "version": "3.7.3"
  }
 },
 "nbformat": 4,
 "nbformat_minor": 2
}
