{
 "cells": [
  {
   "cell_type": "markdown",
   "metadata": {},
   "source": [
    "### 1. 3n+1 Problem\n",
    "Consider the following algorithm to generate a sequence of numbers. Start with an\n",
    "integer n. If n is even, divide by 2. If n is odd, multiply by 3 and add 1. Repeat this\n",
    "process with the new value of n, terminating when n = 1. For example, the following\n",
    "sequence of numbers will be generated for n = 22:\n",
    "\n",
    "22 11 34 17 52 26 13 40 20 10 5 16 8 4 2 1\n",
    "\n",
    "It is conjectured (but not yet proven) that this algorithm will terminate at n = 1 for\n",
    "every integer n. Still, the conjecture holds for all integers up to at least 1, 000, 000.\n",
    "For an input n, the cycle-length of n is the number of numbers generated up to and\n",
    "including the 1. In the example above, the cycle length of 22 is 16. Given any two\n",
    "numbers i and j, you are to determine the maximum cycle length over all numbers\n",
    "between i and j, including both endpoints.\n",
    "Input\n",
    "The input will consist of a series of pairs of integers i and j, one pair of integers per\n",
    "line. All integers will be less than 1,000,000 and greater than 0.\n",
    "Output\n",
    "For each pair of input integers i and j, output i, j in the same order in which they\n",
    "appeared in the input and then the maximum cycle length for integers between and\n",
    "including i and j. These three numbers should be separated by one space, with all three\n",
    "numbers on one line and with one line of output for each line of input.\n",
    "Sample Input\n",
    "1 10\n",
    "\n",
    "100 200\n",
    "\n",
    "201 210\n",
    "\n",
    "900 1000\n",
    "\n",
    "Sample Output\n",
    "20\n",
    "\n",
    "125\n",
    "\n",
    "89\n",
    "\n",
    "174\n"
   ]
  },
  {
   "cell_type": "code",
   "execution_count": 10,
   "metadata": {},
   "outputs": [
    {
     "name": "stdout",
     "output_type": "stream",
     "text": [
      "1 10\n",
      "20\n"
     ]
    }
   ],
   "source": [
    "i,j = map(int,input().split())\n",
    "largest = 0\n",
    "for n in range(i,j+1):\n",
    "    lst = []\n",
    "    lst.append(n)\n",
    "    while n!=1 :\n",
    "        if n%2 == 0 :\n",
    "            n = n//2\n",
    "            lst.append(n)\n",
    "        else :\n",
    "            n = 3*n + 1\n",
    "            lst.append(n)\n",
    "    if len(lst)>largest :\n",
    "        largest = len(lst)\n",
    "print(largest)"
   ]
  },
  {
   "cell_type": "code",
   "execution_count": null,
   "metadata": {},
   "outputs": [],
   "source": []
  },
  {
   "cell_type": "code",
   "execution_count": null,
   "metadata": {},
   "outputs": [],
   "source": []
  },
  {
   "cell_type": "code",
   "execution_count": null,
   "metadata": {},
   "outputs": [],
   "source": []
  }
 ],
 "metadata": {
  "kernelspec": {
   "display_name": "Python 3",
   "language": "python",
   "name": "python3"
  },
  "language_info": {
   "codemirror_mode": {
    "name": "ipython",
    "version": 3
   },
   "file_extension": ".py",
   "mimetype": "text/x-python",
   "name": "python",
   "nbconvert_exporter": "python",
   "pygments_lexer": "ipython3",
   "version": "3.7.3"
  }
 },
 "nbformat": 4,
 "nbformat_minor": 2
}
